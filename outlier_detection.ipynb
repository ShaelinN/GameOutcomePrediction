{
  "nbformat": 4,
  "nbformat_minor": 0,
  "metadata": {
    "colab": {
      "name": "outlier_detection.ipynb",
      "provenance": [],
      "collapsed_sections": [
        "I9Bfu9NUQLbV"
      ]
    },
    "kernelspec": {
      "name": "python3",
      "display_name": "Python 3"
    },
    "language_info": {
      "name": "python"
    }
  },
  "cells": [
    {
      "cell_type": "code",
      "metadata": {
        "id": "RxGRKlx4yNhB"
      },
      "source": [
        "import pandas as pd\n",
        "import os\n",
        "import numpy as np\n",
        "from sklearn.preprocessing import MinMaxScaler"
      ],
      "execution_count": 1,
      "outputs": []
    },
    {
      "cell_type": "code",
      "metadata": {
        "id": "Ma4exVg7NtQx"
      },
      "source": [
        "root = \"/content/drive/MyDrive/COMP721_Project\""
      ],
      "execution_count": 2,
      "outputs": []
    },
    {
      "cell_type": "code",
      "metadata": {
        "id": "Y7_7acDZN4JT"
      },
      "source": [
        "data = os.path.join(root, \"Data\")"
      ],
      "execution_count": 3,
      "outputs": []
    },
    {
      "cell_type": "markdown",
      "metadata": {
        "id": "32_zPo9Ot1we"
      },
      "source": [
        "#preprocessing"
      ]
    },
    {
      "cell_type": "code",
      "metadata": {
        "colab": {
          "base_uri": "https://localhost:8080/",
          "height": 202
        },
        "id": "gm5czffQORbA",
        "outputId": "caaa08fa-e20e-4c8e-9640-861e0bc3f65d"
      },
      "source": [
        "player_rs_career = pd.read_csv(os.path.join(data, \"player_regular_season_career.csv\"))\n",
        "player_rs_career.head()"
      ],
      "execution_count": 22,
      "outputs": [
        {
          "output_type": "execute_result",
          "data": {
            "text/html": [
              "<div>\n",
              "<style scoped>\n",
              "    .dataframe tbody tr th:only-of-type {\n",
              "        vertical-align: middle;\n",
              "    }\n",
              "\n",
              "    .dataframe tbody tr th {\n",
              "        vertical-align: top;\n",
              "    }\n",
              "\n",
              "    .dataframe thead th {\n",
              "        text-align: right;\n",
              "    }\n",
              "</style>\n",
              "<table border=\"1\" class=\"dataframe\">\n",
              "  <thead>\n",
              "    <tr style=\"text-align: right;\">\n",
              "      <th></th>\n",
              "      <th>ilkid</th>\n",
              "      <th>firstname</th>\n",
              "      <th>lastname</th>\n",
              "      <th>leag</th>\n",
              "      <th>gp</th>\n",
              "      <th>minutes</th>\n",
              "      <th>pts</th>\n",
              "      <th>oreb</th>\n",
              "      <th>dreb</th>\n",
              "      <th>reb</th>\n",
              "      <th>asts</th>\n",
              "      <th>stl</th>\n",
              "      <th>blk</th>\n",
              "      <th>turnover</th>\n",
              "      <th>pf</th>\n",
              "      <th>fga</th>\n",
              "      <th>fgm</th>\n",
              "      <th>fta</th>\n",
              "      <th>ftm</th>\n",
              "      <th>tpa</th>\n",
              "      <th>tpm</th>\n",
              "    </tr>\n",
              "  </thead>\n",
              "  <tbody>\n",
              "    <tr>\n",
              "      <th>0</th>\n",
              "      <td>ABDELAL01</td>\n",
              "      <td>Alaa</td>\n",
              "      <td>Abdelnaby</td>\n",
              "      <td>N</td>\n",
              "      <td>256</td>\n",
              "      <td>3200</td>\n",
              "      <td>1465</td>\n",
              "      <td>283</td>\n",
              "      <td>563</td>\n",
              "      <td>846</td>\n",
              "      <td>85</td>\n",
              "      <td>71</td>\n",
              "      <td>69</td>\n",
              "      <td>247</td>\n",
              "      <td>484</td>\n",
              "      <td>1236</td>\n",
              "      <td>620</td>\n",
              "      <td>321</td>\n",
              "      <td>225</td>\n",
              "      <td>3</td>\n",
              "      <td>0</td>\n",
              "    </tr>\n",
              "    <tr>\n",
              "      <th>1</th>\n",
              "      <td>ABDULKA01</td>\n",
              "      <td>Kareem</td>\n",
              "      <td>Abdul-jabbar</td>\n",
              "      <td>N</td>\n",
              "      <td>1560</td>\n",
              "      <td>57446</td>\n",
              "      <td>38387</td>\n",
              "      <td>2975</td>\n",
              "      <td>9394</td>\n",
              "      <td>17440</td>\n",
              "      <td>5660</td>\n",
              "      <td>1160</td>\n",
              "      <td>3189</td>\n",
              "      <td>2527</td>\n",
              "      <td>4657</td>\n",
              "      <td>28307</td>\n",
              "      <td>15837</td>\n",
              "      <td>9304</td>\n",
              "      <td>6712</td>\n",
              "      <td>18</td>\n",
              "      <td>1</td>\n",
              "    </tr>\n",
              "    <tr>\n",
              "      <th>2</th>\n",
              "      <td>ABDULMA01</td>\n",
              "      <td>Mahmo</td>\n",
              "      <td>Abdul-rauf</td>\n",
              "      <td>N</td>\n",
              "      <td>586</td>\n",
              "      <td>15633</td>\n",
              "      <td>8553</td>\n",
              "      <td>219</td>\n",
              "      <td>868</td>\n",
              "      <td>1087</td>\n",
              "      <td>2079</td>\n",
              "      <td>487</td>\n",
              "      <td>46</td>\n",
              "      <td>963</td>\n",
              "      <td>1107</td>\n",
              "      <td>7943</td>\n",
              "      <td>3514</td>\n",
              "      <td>1161</td>\n",
              "      <td>1051</td>\n",
              "      <td>1339</td>\n",
              "      <td>474</td>\n",
              "    </tr>\n",
              "    <tr>\n",
              "      <th>3</th>\n",
              "      <td>ABDULTA01</td>\n",
              "      <td>Tariq</td>\n",
              "      <td>Abdul-wahad</td>\n",
              "      <td>N</td>\n",
              "      <td>236</td>\n",
              "      <td>4808</td>\n",
              "      <td>1830</td>\n",
              "      <td>275</td>\n",
              "      <td>501</td>\n",
              "      <td>776</td>\n",
              "      <td>266</td>\n",
              "      <td>184</td>\n",
              "      <td>82</td>\n",
              "      <td>309</td>\n",
              "      <td>485</td>\n",
              "      <td>1726</td>\n",
              "      <td>720</td>\n",
              "      <td>529</td>\n",
              "      <td>372</td>\n",
              "      <td>76</td>\n",
              "      <td>18</td>\n",
              "    </tr>\n",
              "    <tr>\n",
              "      <th>4</th>\n",
              "      <td>ABDURSH01</td>\n",
              "      <td>Shareef</td>\n",
              "      <td>Abdur-rahim</td>\n",
              "      <td>N</td>\n",
              "      <td>672</td>\n",
              "      <td>24862</td>\n",
              "      <td>13338</td>\n",
              "      <td>1498</td>\n",
              "      <td>3976</td>\n",
              "      <td>5474</td>\n",
              "      <td>1847</td>\n",
              "      <td>718</td>\n",
              "      <td>556</td>\n",
              "      <td>1911</td>\n",
              "      <td>1845</td>\n",
              "      <td>10215</td>\n",
              "      <td>4789</td>\n",
              "      <td>4427</td>\n",
              "      <td>3614</td>\n",
              "      <td>477</td>\n",
              "      <td>146</td>\n",
              "    </tr>\n",
              "  </tbody>\n",
              "</table>\n",
              "</div>"
            ],
            "text/plain": [
              "       ilkid firstname      lastname leag    gp  ...    fgm   fta   ftm   tpa  tpm\n",
              "0  ABDELAL01      Alaa     Abdelnaby    N   256  ...    620   321   225     3    0\n",
              "1  ABDULKA01    Kareem  Abdul-jabbar    N  1560  ...  15837  9304  6712    18    1\n",
              "2  ABDULMA01     Mahmo    Abdul-rauf    N   586  ...   3514  1161  1051  1339  474\n",
              "3  ABDULTA01     Tariq   Abdul-wahad    N   236  ...    720   529   372    76   18\n",
              "4  ABDURSH01   Shareef   Abdur-rahim    N   672  ...   4789  4427  3614   477  146\n",
              "\n",
              "[5 rows x 21 columns]"
            ]
          },
          "metadata": {},
          "execution_count": 22
        }
      ]
    },
    {
      "cell_type": "code",
      "metadata": {
        "colab": {
          "base_uri": "https://localhost:8080/",
          "height": 202
        },
        "id": "DJnMgjfiQIog",
        "outputId": "fd022695-108c-4aff-9175-68b1dbb930ac"
      },
      "source": [
        "player_keys = player_rs_career.loc[:,:\"leag\"]\n",
        "player_vecs = player_rs_career.loc[:,\"gp\":]\n",
        "player_vecs.head()"
      ],
      "execution_count": 23,
      "outputs": [
        {
          "output_type": "execute_result",
          "data": {
            "text/html": [
              "<div>\n",
              "<style scoped>\n",
              "    .dataframe tbody tr th:only-of-type {\n",
              "        vertical-align: middle;\n",
              "    }\n",
              "\n",
              "    .dataframe tbody tr th {\n",
              "        vertical-align: top;\n",
              "    }\n",
              "\n",
              "    .dataframe thead th {\n",
              "        text-align: right;\n",
              "    }\n",
              "</style>\n",
              "<table border=\"1\" class=\"dataframe\">\n",
              "  <thead>\n",
              "    <tr style=\"text-align: right;\">\n",
              "      <th></th>\n",
              "      <th>gp</th>\n",
              "      <th>minutes</th>\n",
              "      <th>pts</th>\n",
              "      <th>oreb</th>\n",
              "      <th>dreb</th>\n",
              "      <th>reb</th>\n",
              "      <th>asts</th>\n",
              "      <th>stl</th>\n",
              "      <th>blk</th>\n",
              "      <th>turnover</th>\n",
              "      <th>pf</th>\n",
              "      <th>fga</th>\n",
              "      <th>fgm</th>\n",
              "      <th>fta</th>\n",
              "      <th>ftm</th>\n",
              "      <th>tpa</th>\n",
              "      <th>tpm</th>\n",
              "    </tr>\n",
              "  </thead>\n",
              "  <tbody>\n",
              "    <tr>\n",
              "      <th>0</th>\n",
              "      <td>256</td>\n",
              "      <td>3200</td>\n",
              "      <td>1465</td>\n",
              "      <td>283</td>\n",
              "      <td>563</td>\n",
              "      <td>846</td>\n",
              "      <td>85</td>\n",
              "      <td>71</td>\n",
              "      <td>69</td>\n",
              "      <td>247</td>\n",
              "      <td>484</td>\n",
              "      <td>1236</td>\n",
              "      <td>620</td>\n",
              "      <td>321</td>\n",
              "      <td>225</td>\n",
              "      <td>3</td>\n",
              "      <td>0</td>\n",
              "    </tr>\n",
              "    <tr>\n",
              "      <th>1</th>\n",
              "      <td>1560</td>\n",
              "      <td>57446</td>\n",
              "      <td>38387</td>\n",
              "      <td>2975</td>\n",
              "      <td>9394</td>\n",
              "      <td>17440</td>\n",
              "      <td>5660</td>\n",
              "      <td>1160</td>\n",
              "      <td>3189</td>\n",
              "      <td>2527</td>\n",
              "      <td>4657</td>\n",
              "      <td>28307</td>\n",
              "      <td>15837</td>\n",
              "      <td>9304</td>\n",
              "      <td>6712</td>\n",
              "      <td>18</td>\n",
              "      <td>1</td>\n",
              "    </tr>\n",
              "    <tr>\n",
              "      <th>2</th>\n",
              "      <td>586</td>\n",
              "      <td>15633</td>\n",
              "      <td>8553</td>\n",
              "      <td>219</td>\n",
              "      <td>868</td>\n",
              "      <td>1087</td>\n",
              "      <td>2079</td>\n",
              "      <td>487</td>\n",
              "      <td>46</td>\n",
              "      <td>963</td>\n",
              "      <td>1107</td>\n",
              "      <td>7943</td>\n",
              "      <td>3514</td>\n",
              "      <td>1161</td>\n",
              "      <td>1051</td>\n",
              "      <td>1339</td>\n",
              "      <td>474</td>\n",
              "    </tr>\n",
              "    <tr>\n",
              "      <th>3</th>\n",
              "      <td>236</td>\n",
              "      <td>4808</td>\n",
              "      <td>1830</td>\n",
              "      <td>275</td>\n",
              "      <td>501</td>\n",
              "      <td>776</td>\n",
              "      <td>266</td>\n",
              "      <td>184</td>\n",
              "      <td>82</td>\n",
              "      <td>309</td>\n",
              "      <td>485</td>\n",
              "      <td>1726</td>\n",
              "      <td>720</td>\n",
              "      <td>529</td>\n",
              "      <td>372</td>\n",
              "      <td>76</td>\n",
              "      <td>18</td>\n",
              "    </tr>\n",
              "    <tr>\n",
              "      <th>4</th>\n",
              "      <td>672</td>\n",
              "      <td>24862</td>\n",
              "      <td>13338</td>\n",
              "      <td>1498</td>\n",
              "      <td>3976</td>\n",
              "      <td>5474</td>\n",
              "      <td>1847</td>\n",
              "      <td>718</td>\n",
              "      <td>556</td>\n",
              "      <td>1911</td>\n",
              "      <td>1845</td>\n",
              "      <td>10215</td>\n",
              "      <td>4789</td>\n",
              "      <td>4427</td>\n",
              "      <td>3614</td>\n",
              "      <td>477</td>\n",
              "      <td>146</td>\n",
              "    </tr>\n",
              "  </tbody>\n",
              "</table>\n",
              "</div>"
            ],
            "text/plain": [
              "     gp  minutes    pts  oreb  dreb    reb  ...    fga    fgm   fta   ftm   tpa  tpm\n",
              "0   256     3200   1465   283   563    846  ...   1236    620   321   225     3    0\n",
              "1  1560    57446  38387  2975  9394  17440  ...  28307  15837  9304  6712    18    1\n",
              "2   586    15633   8553   219   868   1087  ...   7943   3514  1161  1051  1339  474\n",
              "3   236     4808   1830   275   501    776  ...   1726    720   529   372    76   18\n",
              "4   672    24862  13338  1498  3976   5474  ...  10215   4789  4427  3614   477  146\n",
              "\n",
              "[5 rows x 17 columns]"
            ]
          },
          "metadata": {},
          "execution_count": 23
        }
      ]
    },
    {
      "cell_type": "code",
      "metadata": {
        "id": "nMq0uSXetxUE"
      },
      "source": [
        "from sklearn.decomposition import FastICA"
      ],
      "execution_count": null,
      "outputs": []
    },
    {
      "cell_type": "markdown",
      "metadata": {
        "id": "zns4rAAKtzE_"
      },
      "source": [
        "#Models"
      ]
    },
    {
      "cell_type": "markdown",
      "metadata": {
        "id": "98mqYX6uv15G"
      },
      "source": [
        "##One-Class SVM"
      ]
    },
    {
      "cell_type": "code",
      "metadata": {
        "id": "-NGx8pz6whDO"
      },
      "source": [
        "from sklearn import svm"
      ],
      "execution_count": null,
      "outputs": []
    },
    {
      "cell_type": "code",
      "metadata": {
        "id": "2khKCTlDeqtl"
      },
      "source": [
        "model = svm.OneClassSVM()"
      ],
      "execution_count": 7,
      "outputs": []
    },
    {
      "cell_type": "markdown",
      "metadata": {
        "id": "Lcx_bTyLv6yq"
      },
      "source": [
        "## Isolation Forest"
      ]
    },
    {
      "cell_type": "code",
      "metadata": {
        "id": "FZBAuji0Xvrx"
      },
      "source": [
        "from sklearn.ensemble import IsolationForest"
      ],
      "execution_count": 24,
      "outputs": []
    },
    {
      "cell_type": "code",
      "metadata": {
        "id": "6oZAQazyYI3s"
      },
      "source": [
        "model = IsolationForest()"
      ],
      "execution_count": 26,
      "outputs": []
    },
    {
      "cell_type": "markdown",
      "metadata": {
        "id": "VKO3UXYexLIr"
      },
      "source": [
        "## Covariance"
      ]
    },
    {
      "cell_type": "code",
      "metadata": {
        "id": "udZlLjKJxNCv"
      },
      "source": [
        "from sklearn.covariance import EllipticEnvelope"
      ],
      "execution_count": 30,
      "outputs": []
    },
    {
      "cell_type": "code",
      "metadata": {
        "id": "wgjA4p7oyAno"
      },
      "source": [
        "model = EllipticEnvelope()"
      ],
      "execution_count": 31,
      "outputs": []
    },
    {
      "cell_type": "markdown",
      "metadata": {
        "id": "1GxkDB_rxLRv"
      },
      "source": [
        "## \n"
      ]
    },
    {
      "cell_type": "code",
      "metadata": {
        "id": "AiMwz03gxPUE"
      },
      "source": [
        ""
      ],
      "execution_count": null,
      "outputs": []
    },
    {
      "cell_type": "markdown",
      "metadata": {
        "id": "5oteP6zXv-7z"
      },
      "source": [
        "#Testing"
      ]
    },
    {
      "cell_type": "code",
      "metadata": {
        "id": "1_CtCvFCfLzk",
        "colab": {
          "base_uri": "https://localhost:8080/"
        },
        "outputId": "6a33d22e-10ae-4283-9d99-5373f5a05609"
      },
      "source": [
        "res = model.fit_predict(player_vecs)\n",
        "res"
      ],
      "execution_count": 32,
      "outputs": [
        {
          "output_type": "stream",
          "name": "stderr",
          "text": [
            "/usr/local/lib/python3.7/dist-packages/sklearn/covariance/_robust_covariance.py:189: RuntimeWarning: Determinant has increased; this should not happen: log(det) > log(previous_det) (65.158623952016796 > 64.739003668089751). You may want to try with a higher value of support_fraction (current value: 0.505).\n",
            "  RuntimeWarning,\n",
            "/usr/local/lib/python3.7/dist-packages/sklearn/covariance/_robust_covariance.py:189: RuntimeWarning: Determinant has increased; this should not happen: log(det) > log(previous_det) (69.335237950371322 > 66.778687739813762). You may want to try with a higher value of support_fraction (current value: 0.505).\n",
            "  RuntimeWarning,\n",
            "/usr/local/lib/python3.7/dist-packages/sklearn/covariance/_robust_covariance.py:189: RuntimeWarning: Determinant has increased; this should not happen: log(det) > log(previous_det) (84.849632590089470 > 83.445243271202173). You may want to try with a higher value of support_fraction (current value: 0.505).\n",
            "  RuntimeWarning,\n",
            "/usr/local/lib/python3.7/dist-packages/sklearn/covariance/_robust_covariance.py:189: RuntimeWarning: Determinant has increased; this should not happen: log(det) > log(previous_det) (69.954471191215077 > 69.772586218854741). You may want to try with a higher value of support_fraction (current value: 0.503).\n",
            "  RuntimeWarning,\n",
            "/usr/local/lib/python3.7/dist-packages/sklearn/covariance/_robust_covariance.py:189: RuntimeWarning: Determinant has increased; this should not happen: log(det) > log(previous_det) (69.092281465537013 > 68.486171491542507). You may want to try with a higher value of support_fraction (current value: 0.503).\n",
            "  RuntimeWarning,\n",
            "/usr/local/lib/python3.7/dist-packages/sklearn/covariance/_robust_covariance.py:189: RuntimeWarning: Determinant has increased; this should not happen: log(det) > log(previous_det) (70.232898864994695 > 67.008881375148491). You may want to try with a higher value of support_fraction (current value: 0.503).\n",
            "  RuntimeWarning,\n",
            "/usr/local/lib/python3.7/dist-packages/sklearn/covariance/_robust_covariance.py:189: RuntimeWarning: Determinant has increased; this should not happen: log(det) > log(previous_det) (70.032651405807883 > 69.687697127158486). You may want to try with a higher value of support_fraction (current value: 0.503).\n",
            "  RuntimeWarning,\n",
            "/usr/local/lib/python3.7/dist-packages/sklearn/covariance/_robust_covariance.py:189: RuntimeWarning: Determinant has increased; this should not happen: log(det) > log(previous_det) (70.685399600997357 > 68.238630971615720). You may want to try with a higher value of support_fraction (current value: 0.503).\n",
            "  RuntimeWarning,\n",
            "/usr/local/lib/python3.7/dist-packages/sklearn/covariance/_robust_covariance.py:189: RuntimeWarning: Determinant has increased; this should not happen: log(det) > log(previous_det) (71.240212385688693 > 70.217682286024939). You may want to try with a higher value of support_fraction (current value: 0.503).\n",
            "  RuntimeWarning,\n",
            "/usr/local/lib/python3.7/dist-packages/sklearn/covariance/_robust_covariance.py:189: RuntimeWarning: Determinant has increased; this should not happen: log(det) > log(previous_det) (69.649668634730062 > 67.796692013425385). You may want to try with a higher value of support_fraction (current value: 0.503).\n",
            "  RuntimeWarning,\n",
            "/usr/local/lib/python3.7/dist-packages/sklearn/covariance/_robust_covariance.py:189: RuntimeWarning: Determinant has increased; this should not happen: log(det) > log(previous_det) (70.448758522934725 > 68.616634361772469). You may want to try with a higher value of support_fraction (current value: 0.503).\n",
            "  RuntimeWarning,\n",
            "/usr/local/lib/python3.7/dist-packages/sklearn/covariance/_robust_covariance.py:189: RuntimeWarning: Determinant has increased; this should not happen: log(det) > log(previous_det) (70.596632771333645 > 69.551468350142628). You may want to try with a higher value of support_fraction (current value: 0.503).\n",
            "  RuntimeWarning,\n",
            "/usr/local/lib/python3.7/dist-packages/sklearn/covariance/_robust_covariance.py:189: RuntimeWarning: Determinant has increased; this should not happen: log(det) > log(previous_det) (69.818802697912759 > 69.616891344817461). You may want to try with a higher value of support_fraction (current value: 0.503).\n",
            "  RuntimeWarning,\n",
            "/usr/local/lib/python3.7/dist-packages/sklearn/covariance/_robust_covariance.py:189: RuntimeWarning: Determinant has increased; this should not happen: log(det) > log(previous_det) (71.133579603071979 > 70.929287704300094). You may want to try with a higher value of support_fraction (current value: 0.503).\n",
            "  RuntimeWarning,\n",
            "/usr/local/lib/python3.7/dist-packages/sklearn/covariance/_robust_covariance.py:189: RuntimeWarning: Determinant has increased; this should not happen: log(det) > log(previous_det) (68.623142250205262 > 68.396647805750632). You may want to try with a higher value of support_fraction (current value: 0.503).\n",
            "  RuntimeWarning,\n"
          ]
        },
        {
          "output_type": "execute_result",
          "data": {
            "text/plain": [
              "array([ 1, -1,  1, ...,  1,  1,  1])"
            ]
          },
          "metadata": {},
          "execution_count": 32
        }
      ]
    },
    {
      "cell_type": "code",
      "metadata": {
        "colab": {
          "base_uri": "https://localhost:8080/",
          "height": 356
        },
        "id": "qSFNAK5Fgdor",
        "outputId": "6a8df03c-55da-4ae3-f71b-4cfbdd7ec7a5"
      },
      "source": [
        "players = player_keys.copy()\n",
        "players[\"outlier\"] = res\n",
        "players.head(10)"
      ],
      "execution_count": 33,
      "outputs": [
        {
          "output_type": "execute_result",
          "data": {
            "text/html": [
              "<div>\n",
              "<style scoped>\n",
              "    .dataframe tbody tr th:only-of-type {\n",
              "        vertical-align: middle;\n",
              "    }\n",
              "\n",
              "    .dataframe tbody tr th {\n",
              "        vertical-align: top;\n",
              "    }\n",
              "\n",
              "    .dataframe thead th {\n",
              "        text-align: right;\n",
              "    }\n",
              "</style>\n",
              "<table border=\"1\" class=\"dataframe\">\n",
              "  <thead>\n",
              "    <tr style=\"text-align: right;\">\n",
              "      <th></th>\n",
              "      <th>ilkid</th>\n",
              "      <th>firstname</th>\n",
              "      <th>lastname</th>\n",
              "      <th>leag</th>\n",
              "      <th>outlier</th>\n",
              "    </tr>\n",
              "  </thead>\n",
              "  <tbody>\n",
              "    <tr>\n",
              "      <th>0</th>\n",
              "      <td>ABDELAL01</td>\n",
              "      <td>Alaa</td>\n",
              "      <td>Abdelnaby</td>\n",
              "      <td>N</td>\n",
              "      <td>1</td>\n",
              "    </tr>\n",
              "    <tr>\n",
              "      <th>1</th>\n",
              "      <td>ABDULKA01</td>\n",
              "      <td>Kareem</td>\n",
              "      <td>Abdul-jabbar</td>\n",
              "      <td>N</td>\n",
              "      <td>-1</td>\n",
              "    </tr>\n",
              "    <tr>\n",
              "      <th>2</th>\n",
              "      <td>ABDULMA01</td>\n",
              "      <td>Mahmo</td>\n",
              "      <td>Abdul-rauf</td>\n",
              "      <td>N</td>\n",
              "      <td>1</td>\n",
              "    </tr>\n",
              "    <tr>\n",
              "      <th>3</th>\n",
              "      <td>ABDULTA01</td>\n",
              "      <td>Tariq</td>\n",
              "      <td>Abdul-wahad</td>\n",
              "      <td>N</td>\n",
              "      <td>1</td>\n",
              "    </tr>\n",
              "    <tr>\n",
              "      <th>4</th>\n",
              "      <td>ABDURSH01</td>\n",
              "      <td>Shareef</td>\n",
              "      <td>Abdur-rahim</td>\n",
              "      <td>N</td>\n",
              "      <td>-1</td>\n",
              "    </tr>\n",
              "    <tr>\n",
              "      <th>5</th>\n",
              "      <td>ABERNTO01</td>\n",
              "      <td>Tom</td>\n",
              "      <td>Abernethy</td>\n",
              "      <td>N</td>\n",
              "      <td>1</td>\n",
              "    </tr>\n",
              "    <tr>\n",
              "      <th>6</th>\n",
              "      <td>ABLEFO01</td>\n",
              "      <td>Forest</td>\n",
              "      <td>Able</td>\n",
              "      <td>N</td>\n",
              "      <td>1</td>\n",
              "    </tr>\n",
              "    <tr>\n",
              "      <th>7</th>\n",
              "      <td>ABRAMJO01</td>\n",
              "      <td>John</td>\n",
              "      <td>Abramovic</td>\n",
              "      <td>N</td>\n",
              "      <td>1</td>\n",
              "    </tr>\n",
              "    <tr>\n",
              "      <th>8</th>\n",
              "      <td>ACKERDO01</td>\n",
              "      <td>Donald</td>\n",
              "      <td>Ackerman</td>\n",
              "      <td>N</td>\n",
              "      <td>1</td>\n",
              "    </tr>\n",
              "    <tr>\n",
              "      <th>9</th>\n",
              "      <td>ACRESMA01</td>\n",
              "      <td>Mark</td>\n",
              "      <td>Acres</td>\n",
              "      <td>N</td>\n",
              "      <td>1</td>\n",
              "    </tr>\n",
              "  </tbody>\n",
              "</table>\n",
              "</div>"
            ],
            "text/plain": [
              "       ilkid firstname      lastname leag  outlier\n",
              "0  ABDELAL01      Alaa     Abdelnaby    N        1\n",
              "1  ABDULKA01    Kareem  Abdul-jabbar    N       -1\n",
              "2  ABDULMA01     Mahmo    Abdul-rauf    N        1\n",
              "3  ABDULTA01     Tariq   Abdul-wahad    N        1\n",
              "4  ABDURSH01   Shareef   Abdur-rahim    N       -1\n",
              "5  ABERNTO01       Tom     Abernethy    N        1\n",
              "6   ABLEFO01    Forest          Able    N        1\n",
              "7  ABRAMJO01      John     Abramovic    N        1\n",
              "8  ACKERDO01    Donald      Ackerman    N        1\n",
              "9  ACRESMA01      Mark         Acres    N        1"
            ]
          },
          "metadata": {},
          "execution_count": 33
        }
      ]
    }
  ]
}