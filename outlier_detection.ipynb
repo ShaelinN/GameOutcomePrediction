{
  "nbformat": 4,
  "nbformat_minor": 0,
  "metadata": {
    "colab": {
      "name": "outlier_detection.ipynb",
      "provenance": [],
      "collapsed_sections": [
        "32_zPo9Ot1we",
        "zns4rAAKtzE_"
      ],
      "mount_file_id": "1plKsv8kGT0QjcB4yRErShvVchfAJduCb",
      "authorship_tag": "ABX9TyP0l2gEClDo6jokhE+uYilP",
      "include_colab_link": true
    },
    "kernelspec": {
      "name": "python3",
      "display_name": "Python 3"
    },
    "language_info": {
      "name": "python"
    }
  },
  "cells": [
    {
      "cell_type": "markdown",
      "metadata": {
        "id": "view-in-github",
        "colab_type": "text"
      },
      "source": [
        "<a href=\"https://colab.research.google.com/github/ShaelinN/GameOutcomePrediction/blob/master/outlier_detection.ipynb\" target=\"_parent\"><img src=\"https://colab.research.google.com/assets/colab-badge.svg\" alt=\"Open In Colab\"/></a>"
      ]
    },
    {
      "cell_type": "code",
      "metadata": {
        "id": "RxGRKlx4yNhB"
      },
      "source": [
        "import pandas as pd\n",
        "import os\n",
        "import numpy as np"
      ],
      "execution_count": 1,
      "outputs": []
    },
    {
      "cell_type": "code",
      "metadata": {
        "id": "9dAv76LGLWmn"
      },
      "source": [
        "from sklearn import svm\n",
        "from sklearn.ensemble import IsolationForest\n",
        "from sklearn.covariance import EllipticEnvelope\n",
        "\n",
        "from sklearn.decomposition import PCA\n",
        "import matplotlib.pyplot as plt"
      ],
      "execution_count": 6,
      "outputs": []
    },
    {
      "cell_type": "code",
      "metadata": {
        "id": "Ma4exVg7NtQx"
      },
      "source": [
        "root = \"/content/drive/MyDrive/COMP721_Project\""
      ],
      "execution_count": 2,
      "outputs": []
    },
    {
      "cell_type": "code",
      "metadata": {
        "id": "Y7_7acDZN4JT"
      },
      "source": [
        "data = os.path.join(root, \"Data\")"
      ],
      "execution_count": 3,
      "outputs": []
    },
    {
      "cell_type": "markdown",
      "metadata": {
        "id": "32_zPo9Ot1we"
      },
      "source": [
        "#preprocessing"
      ]
    },
    {
      "cell_type": "code",
      "metadata": {
        "colab": {
          "base_uri": "https://localhost:8080/",
          "height": 202
        },
        "id": "gm5czffQORbA",
        "outputId": "59cdab86-4383-43de-d234-4e921baf8be7"
      },
      "source": [
        "player_rs_career = pd.read_csv(os.path.join(data, \"player_regular_season_career.csv\"))\n",
        "player_rs_career.head()"
      ],
      "execution_count": 222,
      "outputs": [
        {
          "output_type": "execute_result",
          "data": {
            "text/html": [
              "<div>\n",
              "<style scoped>\n",
              "    .dataframe tbody tr th:only-of-type {\n",
              "        vertical-align: middle;\n",
              "    }\n",
              "\n",
              "    .dataframe tbody tr th {\n",
              "        vertical-align: top;\n",
              "    }\n",
              "\n",
              "    .dataframe thead th {\n",
              "        text-align: right;\n",
              "    }\n",
              "</style>\n",
              "<table border=\"1\" class=\"dataframe\">\n",
              "  <thead>\n",
              "    <tr style=\"text-align: right;\">\n",
              "      <th></th>\n",
              "      <th>ilkid</th>\n",
              "      <th>firstname</th>\n",
              "      <th>lastname</th>\n",
              "      <th>leag</th>\n",
              "      <th>gp</th>\n",
              "      <th>minutes</th>\n",
              "      <th>pts</th>\n",
              "      <th>oreb</th>\n",
              "      <th>dreb</th>\n",
              "      <th>reb</th>\n",
              "      <th>asts</th>\n",
              "      <th>stl</th>\n",
              "      <th>blk</th>\n",
              "      <th>turnover</th>\n",
              "      <th>pf</th>\n",
              "      <th>fga</th>\n",
              "      <th>fgm</th>\n",
              "      <th>fta</th>\n",
              "      <th>ftm</th>\n",
              "      <th>tpa</th>\n",
              "      <th>tpm</th>\n",
              "    </tr>\n",
              "  </thead>\n",
              "  <tbody>\n",
              "    <tr>\n",
              "      <th>0</th>\n",
              "      <td>ABDELAL01</td>\n",
              "      <td>Alaa</td>\n",
              "      <td>Abdelnaby</td>\n",
              "      <td>N</td>\n",
              "      <td>256</td>\n",
              "      <td>3200</td>\n",
              "      <td>1465</td>\n",
              "      <td>283</td>\n",
              "      <td>563</td>\n",
              "      <td>846</td>\n",
              "      <td>85</td>\n",
              "      <td>71</td>\n",
              "      <td>69</td>\n",
              "      <td>247</td>\n",
              "      <td>484</td>\n",
              "      <td>1236</td>\n",
              "      <td>620</td>\n",
              "      <td>321</td>\n",
              "      <td>225</td>\n",
              "      <td>3</td>\n",
              "      <td>0</td>\n",
              "    </tr>\n",
              "    <tr>\n",
              "      <th>1</th>\n",
              "      <td>ABDULKA01</td>\n",
              "      <td>Kareem</td>\n",
              "      <td>Abdul-jabbar</td>\n",
              "      <td>N</td>\n",
              "      <td>1560</td>\n",
              "      <td>57446</td>\n",
              "      <td>38387</td>\n",
              "      <td>2975</td>\n",
              "      <td>9394</td>\n",
              "      <td>17440</td>\n",
              "      <td>5660</td>\n",
              "      <td>1160</td>\n",
              "      <td>3189</td>\n",
              "      <td>2527</td>\n",
              "      <td>4657</td>\n",
              "      <td>28307</td>\n",
              "      <td>15837</td>\n",
              "      <td>9304</td>\n",
              "      <td>6712</td>\n",
              "      <td>18</td>\n",
              "      <td>1</td>\n",
              "    </tr>\n",
              "    <tr>\n",
              "      <th>2</th>\n",
              "      <td>ABDULMA01</td>\n",
              "      <td>Mahmo</td>\n",
              "      <td>Abdul-rauf</td>\n",
              "      <td>N</td>\n",
              "      <td>586</td>\n",
              "      <td>15633</td>\n",
              "      <td>8553</td>\n",
              "      <td>219</td>\n",
              "      <td>868</td>\n",
              "      <td>1087</td>\n",
              "      <td>2079</td>\n",
              "      <td>487</td>\n",
              "      <td>46</td>\n",
              "      <td>963</td>\n",
              "      <td>1107</td>\n",
              "      <td>7943</td>\n",
              "      <td>3514</td>\n",
              "      <td>1161</td>\n",
              "      <td>1051</td>\n",
              "      <td>1339</td>\n",
              "      <td>474</td>\n",
              "    </tr>\n",
              "    <tr>\n",
              "      <th>3</th>\n",
              "      <td>ABDULTA01</td>\n",
              "      <td>Tariq</td>\n",
              "      <td>Abdul-wahad</td>\n",
              "      <td>N</td>\n",
              "      <td>236</td>\n",
              "      <td>4808</td>\n",
              "      <td>1830</td>\n",
              "      <td>275</td>\n",
              "      <td>501</td>\n",
              "      <td>776</td>\n",
              "      <td>266</td>\n",
              "      <td>184</td>\n",
              "      <td>82</td>\n",
              "      <td>309</td>\n",
              "      <td>485</td>\n",
              "      <td>1726</td>\n",
              "      <td>720</td>\n",
              "      <td>529</td>\n",
              "      <td>372</td>\n",
              "      <td>76</td>\n",
              "      <td>18</td>\n",
              "    </tr>\n",
              "    <tr>\n",
              "      <th>4</th>\n",
              "      <td>ABDURSH01</td>\n",
              "      <td>Shareef</td>\n",
              "      <td>Abdur-rahim</td>\n",
              "      <td>N</td>\n",
              "      <td>672</td>\n",
              "      <td>24862</td>\n",
              "      <td>13338</td>\n",
              "      <td>1498</td>\n",
              "      <td>3976</td>\n",
              "      <td>5474</td>\n",
              "      <td>1847</td>\n",
              "      <td>718</td>\n",
              "      <td>556</td>\n",
              "      <td>1911</td>\n",
              "      <td>1845</td>\n",
              "      <td>10215</td>\n",
              "      <td>4789</td>\n",
              "      <td>4427</td>\n",
              "      <td>3614</td>\n",
              "      <td>477</td>\n",
              "      <td>146</td>\n",
              "    </tr>\n",
              "  </tbody>\n",
              "</table>\n",
              "</div>"
            ],
            "text/plain": [
              "       ilkid firstname      lastname leag    gp  ...    fgm   fta   ftm   tpa  tpm\n",
              "0  ABDELAL01      Alaa     Abdelnaby    N   256  ...    620   321   225     3    0\n",
              "1  ABDULKA01    Kareem  Abdul-jabbar    N  1560  ...  15837  9304  6712    18    1\n",
              "2  ABDULMA01     Mahmo    Abdul-rauf    N   586  ...   3514  1161  1051  1339  474\n",
              "3  ABDULTA01     Tariq   Abdul-wahad    N   236  ...    720   529   372    76   18\n",
              "4  ABDURSH01   Shareef   Abdur-rahim    N   672  ...   4789  4427  3614   477  146\n",
              "\n",
              "[5 rows x 21 columns]"
            ]
          },
          "metadata": {},
          "execution_count": 222
        }
      ]
    },
    {
      "cell_type": "code",
      "metadata": {
        "colab": {
          "base_uri": "https://localhost:8080/"
        },
        "id": "QAhxoPKvb59W",
        "outputId": "e5e0417c-6b0f-4386-c4a2-791a4c19f964"
      },
      "source": [
        "#  ONLY RUN THIS BLOCK IF YOU WANT TO CONSIDER NBA PLAYERS AND IGNORE ABA\n",
        "\n",
        "print(player_rs_career.shape)\n",
        "player_rs_career = player_rs_career.where(player_rs_career[\"leag\"] == \"N\").dropna()\n",
        "player_rs_career = player_rs_career.drop(\"leag\", axis=1)\n",
        "print(player_rs_career.shape)"
      ],
      "execution_count": 223,
      "outputs": [
        {
          "output_type": "stream",
          "name": "stdout",
          "text": [
            "(3759, 21)\n",
            "(3250, 20)\n"
          ]
        }
      ]
    },
    {
      "cell_type": "markdown",
      "metadata": {
        "id": "nU0Okx3ThHiF"
      },
      "source": [
        "##keys: \n",
        "the learners will not have access to this part of the data"
      ]
    },
    {
      "cell_type": "code",
      "metadata": {
        "id": "YaqEhJvYdayx"
      },
      "source": [
        "player_keys = player_rs_career.loc[:,:\"lastname\"]"
      ],
      "execution_count": 225,
      "outputs": []
    },
    {
      "cell_type": "code",
      "metadata": {
        "id": "OqSeqX0ZoDru"
      },
      "source": [
        "player_all_star= pd.read_csv(os.path.join(data, \"player_allstar.csv\"))\n",
        "player_all_star.head()\n",
        "player_all_star[\"ilkid\"] = [i.upper().strip() for i in player_all_star[\"ilkid\"]]"
      ],
      "execution_count": 226,
      "outputs": []
    },
    {
      "cell_type": "code",
      "metadata": {
        "id": "PzUoyr9Vxz9w"
      },
      "source": [
        "count = player_all_star[[\"ilkid\"]].groupby(\"ilkid\", as_index=False).size()\n",
        "count.columns = [\"ilkid\",\"times_allstar\"]"
      ],
      "execution_count": 227,
      "outputs": []
    },
    {
      "cell_type": "code",
      "metadata": {
        "colab": {
          "base_uri": "https://localhost:8080/",
          "height": 416
        },
        "id": "VMqyTK6kxU85",
        "outputId": "ebf8fe35-09f6-4449-9a95-7cba17494206"
      },
      "source": [
        "player_keys = pd.merge(player_keys, count,how=\"left\", on=\"ilkid\")\n",
        "player_keys[\"times_allstar\"] = player_keys[\"times_allstar\"].fillna(0)\n",
        "player_keys"
      ],
      "execution_count": 228,
      "outputs": [
        {
          "output_type": "execute_result",
          "data": {
            "text/html": [
              "<div>\n",
              "<style scoped>\n",
              "    .dataframe tbody tr th:only-of-type {\n",
              "        vertical-align: middle;\n",
              "    }\n",
              "\n",
              "    .dataframe tbody tr th {\n",
              "        vertical-align: top;\n",
              "    }\n",
              "\n",
              "    .dataframe thead th {\n",
              "        text-align: right;\n",
              "    }\n",
              "</style>\n",
              "<table border=\"1\" class=\"dataframe\">\n",
              "  <thead>\n",
              "    <tr style=\"text-align: right;\">\n",
              "      <th></th>\n",
              "      <th>ilkid</th>\n",
              "      <th>firstname</th>\n",
              "      <th>lastname</th>\n",
              "      <th>times_allstar</th>\n",
              "    </tr>\n",
              "  </thead>\n",
              "  <tbody>\n",
              "    <tr>\n",
              "      <th>0</th>\n",
              "      <td>ABDELAL01</td>\n",
              "      <td>Alaa</td>\n",
              "      <td>Abdelnaby</td>\n",
              "      <td>0.0</td>\n",
              "    </tr>\n",
              "    <tr>\n",
              "      <th>1</th>\n",
              "      <td>ABDULKA01</td>\n",
              "      <td>Kareem</td>\n",
              "      <td>Abdul-jabbar</td>\n",
              "      <td>19.0</td>\n",
              "    </tr>\n",
              "    <tr>\n",
              "      <th>2</th>\n",
              "      <td>ABDULMA01</td>\n",
              "      <td>Mahmo</td>\n",
              "      <td>Abdul-rauf</td>\n",
              "      <td>0.0</td>\n",
              "    </tr>\n",
              "    <tr>\n",
              "      <th>3</th>\n",
              "      <td>ABDULTA01</td>\n",
              "      <td>Tariq</td>\n",
              "      <td>Abdul-wahad</td>\n",
              "      <td>0.0</td>\n",
              "    </tr>\n",
              "    <tr>\n",
              "      <th>4</th>\n",
              "      <td>ABDURSH01</td>\n",
              "      <td>Shareef</td>\n",
              "      <td>Abdur-rahim</td>\n",
              "      <td>1.0</td>\n",
              "    </tr>\n",
              "    <tr>\n",
              "      <th>...</th>\n",
              "      <td>...</td>\n",
              "      <td>...</td>\n",
              "      <td>...</td>\n",
              "      <td>...</td>\n",
              "    </tr>\n",
              "    <tr>\n",
              "      <th>3245</th>\n",
              "      <td>ZEVENPH01</td>\n",
              "      <td>Phil</td>\n",
              "      <td>Zevenbergen</td>\n",
              "      <td>0.0</td>\n",
              "    </tr>\n",
              "    <tr>\n",
              "      <th>3246</th>\n",
              "      <td>ZIDEKGE01</td>\n",
              "      <td>George</td>\n",
              "      <td>Zidek</td>\n",
              "      <td>0.0</td>\n",
              "    </tr>\n",
              "    <tr>\n",
              "      <th>3247</th>\n",
              "      <td>ZOETJI01</td>\n",
              "      <td>Jim</td>\n",
              "      <td>Zoet</td>\n",
              "      <td>0.0</td>\n",
              "    </tr>\n",
              "    <tr>\n",
              "      <th>3248</th>\n",
              "      <td>ZOPFBI01</td>\n",
              "      <td>Bill</td>\n",
              "      <td>Zopf</td>\n",
              "      <td>0.0</td>\n",
              "    </tr>\n",
              "    <tr>\n",
              "      <th>3249</th>\n",
              "      <td>ZUNICMA01</td>\n",
              "      <td>Matt</td>\n",
              "      <td>Zunic</td>\n",
              "      <td>0.0</td>\n",
              "    </tr>\n",
              "  </tbody>\n",
              "</table>\n",
              "<p>3250 rows × 4 columns</p>\n",
              "</div>"
            ],
            "text/plain": [
              "          ilkid firstname      lastname  times_allstar\n",
              "0     ABDELAL01      Alaa     Abdelnaby            0.0\n",
              "1     ABDULKA01    Kareem  Abdul-jabbar           19.0\n",
              "2     ABDULMA01     Mahmo    Abdul-rauf            0.0\n",
              "3     ABDULTA01     Tariq   Abdul-wahad            0.0\n",
              "4     ABDURSH01   Shareef   Abdur-rahim            1.0\n",
              "...         ...       ...           ...            ...\n",
              "3245  ZEVENPH01      Phil   Zevenbergen            0.0\n",
              "3246  ZIDEKGE01    George         Zidek            0.0\n",
              "3247   ZOETJI01       Jim          Zoet            0.0\n",
              "3248   ZOPFBI01      Bill          Zopf            0.0\n",
              "3249  ZUNICMA01      Matt         Zunic            0.0\n",
              "\n",
              "[3250 rows x 4 columns]"
            ]
          },
          "metadata": {},
          "execution_count": 228
        }
      ]
    },
    {
      "cell_type": "markdown",
      "metadata": {
        "id": "57lF2_prhNyB"
      },
      "source": [
        "##player \"vectors\":\n",
        "this is the data the learners will see (either full or feature-compressed version can be used)"
      ]
    },
    {
      "cell_type": "code",
      "metadata": {
        "id": "DJnMgjfiQIog"
      },
      "source": [
        "Dn_player_vecs = player_rs_career.loc[:,\"gp\":]\n",
        "pca = PCA(n_components=2)\n",
        "D2_player_vecs = pca.fit_transform(Dn_player_vecs)"
      ],
      "execution_count": 229,
      "outputs": []
    },
    {
      "cell_type": "markdown",
      "metadata": {
        "id": "zns4rAAKtzE_"
      },
      "source": [
        "#Models"
      ]
    },
    {
      "cell_type": "code",
      "metadata": {
        "id": "QWfwrSluLhHX"
      },
      "source": [
        "player_summary = player_keys.copy()\n",
        "\n",
        "OCSVM = svm.OneClassSVM(nu=0.02)\n",
        "IF = IsolationForest(contamination=0.02)\n",
        "EE = EllipticEnvelope(contamination=0.02)\n",
        "\n",
        "working_player_vecs = Dn_player_vecs #change to D2_player_vecs or Dn_player_vecs"
      ],
      "execution_count": 257,
      "outputs": []
    },
    {
      "cell_type": "code",
      "metadata": {
        "id": "snhV5f0rWD-v"
      },
      "source": [
        "working_player_vecs = working_player_vecs.copy()"
      ],
      "execution_count": 258,
      "outputs": []
    },
    {
      "cell_type": "code",
      "metadata": {
        "colab": {
          "base_uri": "https://localhost:8080/",
          "height": 0
        },
        "id": "M2LcxZPzLNdh",
        "outputId": "d675fbd5-28b9-4bc5-ba26-0eb3783a354d"
      },
      "source": [
        "ee_outliers = EE.fit_predict(working_player_vecs)\n",
        "if_outliers = IF.fit_predict(working_player_vecs)\n",
        "ocsvm_outliers = OCSVM.fit_predict(working_player_vecs)\n",
        "\n",
        "player_summary[\"EllipticEnvelope_outlier\"] = ee_outliers\n",
        "player_summary[\"IsolationForest_outlier\"] = if_outliers\n",
        "player_summary[\"OneClassSVM_outlier\"] = ocsvm_outliers\n",
        "\n",
        "player_summary.head()"
      ],
      "execution_count": 259,
      "outputs": [
        {
          "output_type": "stream",
          "name": "stderr",
          "text": [
            "/usr/local/lib/python3.7/dist-packages/sklearn/covariance/_robust_covariance.py:189: RuntimeWarning: Determinant has increased; this should not happen: log(det) > log(previous_det) (79.406178940521229 > 78.976580528778015). You may want to try with a higher value of support_fraction (current value: 0.505).\n",
            "  RuntimeWarning,\n",
            "/usr/local/lib/python3.7/dist-packages/sklearn/covariance/_robust_covariance.py:189: RuntimeWarning: Determinant has increased; this should not happen: log(det) > log(previous_det) (63.756919224790160 > 62.550734140926394). You may want to try with a higher value of support_fraction (current value: 0.505).\n",
            "  RuntimeWarning,\n",
            "/usr/local/lib/python3.7/dist-packages/sklearn/covariance/_robust_covariance.py:189: RuntimeWarning: Determinant has increased; this should not happen: log(det) > log(previous_det) (70.697501774548584 > 66.718578677424873). You may want to try with a higher value of support_fraction (current value: 0.505).\n",
            "  RuntimeWarning,\n",
            "/usr/local/lib/python3.7/dist-packages/sklearn/covariance/_robust_covariance.py:189: RuntimeWarning: Determinant has increased; this should not happen: log(det) > log(previous_det) (70.370753562449593 > 66.827131644673571). You may want to try with a higher value of support_fraction (current value: 0.503).\n",
            "  RuntimeWarning,\n",
            "/usr/local/lib/python3.7/dist-packages/sklearn/covariance/_robust_covariance.py:189: RuntimeWarning: Determinant has increased; this should not happen: log(det) > log(previous_det) (70.443137379414793 > 69.553061320573278). You may want to try with a higher value of support_fraction (current value: 0.503).\n",
            "  RuntimeWarning,\n",
            "/usr/local/lib/python3.7/dist-packages/sklearn/covariance/_robust_covariance.py:189: RuntimeWarning: Determinant has increased; this should not happen: log(det) > log(previous_det) (69.860918949324954 > 67.971345412522808). You may want to try with a higher value of support_fraction (current value: 0.503).\n",
            "  RuntimeWarning,\n",
            "/usr/local/lib/python3.7/dist-packages/sklearn/covariance/_robust_covariance.py:189: RuntimeWarning: Determinant has increased; this should not happen: log(det) > log(previous_det) (71.023602570673873 > 70.354269436502065). You may want to try with a higher value of support_fraction (current value: 0.503).\n",
            "  RuntimeWarning,\n",
            "/usr/local/lib/python3.7/dist-packages/sklearn/covariance/_robust_covariance.py:189: RuntimeWarning: Determinant has increased; this should not happen: log(det) > log(previous_det) (71.146049410001353 > 70.673706236965614). You may want to try with a higher value of support_fraction (current value: 0.503).\n",
            "  RuntimeWarning,\n",
            "/usr/local/lib/python3.7/dist-packages/sklearn/covariance/_robust_covariance.py:189: RuntimeWarning: Determinant has increased; this should not happen: log(det) > log(previous_det) (71.358212116412375 > 70.553727814022068). You may want to try with a higher value of support_fraction (current value: 0.503).\n",
            "  RuntimeWarning,\n",
            "/usr/local/lib/python3.7/dist-packages/sklearn/covariance/_robust_covariance.py:189: RuntimeWarning: Determinant has increased; this should not happen: log(det) > log(previous_det) (70.386996679140509 > 70.103308103223810). You may want to try with a higher value of support_fraction (current value: 0.503).\n",
            "  RuntimeWarning,\n",
            "/usr/local/lib/python3.7/dist-packages/sklearn/covariance/_robust_covariance.py:189: RuntimeWarning: Determinant has increased; this should not happen: log(det) > log(previous_det) (70.392884732433259 > 69.635459692611434). You may want to try with a higher value of support_fraction (current value: 0.503).\n",
            "  RuntimeWarning,\n",
            "/usr/local/lib/python3.7/dist-packages/sklearn/covariance/_robust_covariance.py:189: RuntimeWarning: Determinant has increased; this should not happen: log(det) > log(previous_det) (70.543706945889056 > 69.379024891744905). You may want to try with a higher value of support_fraction (current value: 0.503).\n",
            "  RuntimeWarning,\n",
            "/usr/local/lib/python3.7/dist-packages/sklearn/covariance/_robust_covariance.py:189: RuntimeWarning: Determinant has increased; this should not happen: log(det) > log(previous_det) (70.824863073398660 > 69.988367471343068). You may want to try with a higher value of support_fraction (current value: 0.503).\n",
            "  RuntimeWarning,\n",
            "/usr/local/lib/python3.7/dist-packages/sklearn/covariance/_robust_covariance.py:189: RuntimeWarning: Determinant has increased; this should not happen: log(det) > log(previous_det) (71.619505339047720 > 70.974738379780376). You may want to try with a higher value of support_fraction (current value: 0.503).\n",
            "  RuntimeWarning,\n",
            "/usr/local/lib/python3.7/dist-packages/sklearn/covariance/_robust_covariance.py:189: RuntimeWarning: Determinant has increased; this should not happen: log(det) > log(previous_det) (72.148705957951606 > 70.632310702131946). You may want to try with a higher value of support_fraction (current value: 0.503).\n",
            "  RuntimeWarning,\n",
            "/usr/local/lib/python3.7/dist-packages/sklearn/base.py:446: UserWarning: X does not have valid feature names, but IsolationForest was fitted with feature names\n",
            "  \"X does not have valid feature names, but\"\n"
          ]
        },
        {
          "output_type": "execute_result",
          "data": {
            "text/html": [
              "<div>\n",
              "<style scoped>\n",
              "    .dataframe tbody tr th:only-of-type {\n",
              "        vertical-align: middle;\n",
              "    }\n",
              "\n",
              "    .dataframe tbody tr th {\n",
              "        vertical-align: top;\n",
              "    }\n",
              "\n",
              "    .dataframe thead th {\n",
              "        text-align: right;\n",
              "    }\n",
              "</style>\n",
              "<table border=\"1\" class=\"dataframe\">\n",
              "  <thead>\n",
              "    <tr style=\"text-align: right;\">\n",
              "      <th></th>\n",
              "      <th>ilkid</th>\n",
              "      <th>firstname</th>\n",
              "      <th>lastname</th>\n",
              "      <th>times_allstar</th>\n",
              "      <th>EllipticEnvelope_outlier</th>\n",
              "      <th>IsolationForest_outlier</th>\n",
              "      <th>OneClassSVM_outlier</th>\n",
              "    </tr>\n",
              "  </thead>\n",
              "  <tbody>\n",
              "    <tr>\n",
              "      <th>0</th>\n",
              "      <td>ABDELAL01</td>\n",
              "      <td>Alaa</td>\n",
              "      <td>Abdelnaby</td>\n",
              "      <td>0.0</td>\n",
              "      <td>1</td>\n",
              "      <td>1</td>\n",
              "      <td>1</td>\n",
              "    </tr>\n",
              "    <tr>\n",
              "      <th>1</th>\n",
              "      <td>ABDULKA01</td>\n",
              "      <td>Kareem</td>\n",
              "      <td>Abdul-jabbar</td>\n",
              "      <td>19.0</td>\n",
              "      <td>-1</td>\n",
              "      <td>-1</td>\n",
              "      <td>-1</td>\n",
              "    </tr>\n",
              "    <tr>\n",
              "      <th>2</th>\n",
              "      <td>ABDULMA01</td>\n",
              "      <td>Mahmo</td>\n",
              "      <td>Abdul-rauf</td>\n",
              "      <td>0.0</td>\n",
              "      <td>1</td>\n",
              "      <td>1</td>\n",
              "      <td>1</td>\n",
              "    </tr>\n",
              "    <tr>\n",
              "      <th>3</th>\n",
              "      <td>ABDULTA01</td>\n",
              "      <td>Tariq</td>\n",
              "      <td>Abdul-wahad</td>\n",
              "      <td>0.0</td>\n",
              "      <td>1</td>\n",
              "      <td>1</td>\n",
              "      <td>1</td>\n",
              "    </tr>\n",
              "    <tr>\n",
              "      <th>4</th>\n",
              "      <td>ABDURSH01</td>\n",
              "      <td>Shareef</td>\n",
              "      <td>Abdur-rahim</td>\n",
              "      <td>1.0</td>\n",
              "      <td>1</td>\n",
              "      <td>1</td>\n",
              "      <td>1</td>\n",
              "    </tr>\n",
              "  </tbody>\n",
              "</table>\n",
              "</div>"
            ],
            "text/plain": [
              "       ilkid firstname  ... IsolationForest_outlier  OneClassSVM_outlier\n",
              "0  ABDELAL01      Alaa  ...                       1                    1\n",
              "1  ABDULKA01    Kareem  ...                      -1                   -1\n",
              "2  ABDULMA01     Mahmo  ...                       1                    1\n",
              "3  ABDULTA01     Tariq  ...                       1                    1\n",
              "4  ABDURSH01   Shareef  ...                       1                    1\n",
              "\n",
              "[5 rows x 7 columns]"
            ]
          },
          "metadata": {},
          "execution_count": 259
        }
      ]
    },
    {
      "cell_type": "markdown",
      "metadata": {
        "id": "5-yznty3YBpa"
      },
      "source": [
        "#Plotting"
      ]
    },
    {
      "cell_type": "code",
      "metadata": {
        "id": "7yzimj-ge7_G"
      },
      "source": [
        "def plot(detected_outliers):\n",
        "  # outlier\n",
        "  C_0 = np.argwhere(detected_outliers==-1)\n",
        "  C_0 = D2_player_vecs[C_0]   #since in plotting, only work with D2 vectors (2D)\n",
        "  C_0 = C_0.transpose() \n",
        "\n",
        "  #inlier\n",
        "  C_1 = np.argwhere(detected_outliers==1)\n",
        "  C_1 = D2_player_vecs[C_1]   #since in plotting, only work with D2 vectors (2D)\n",
        "  C_1 = C_1.transpose()\n",
        "\n",
        "  #plt.figure(figsize=(18,10))\n",
        "\n",
        "  plt.scatter(C_0[0], C_0[1], label='outlier') #outlier\n",
        "  plt.scatter(C_1[0], C_1[1], label='inlier')\n",
        "  \n",
        "  #plt.xlim(-10000,80000)\n",
        "  #plt.ylim(-15000,15000)\n",
        "  \n",
        "  plt.legend()"
      ],
      "execution_count": 260,
      "outputs": []
    },
    {
      "cell_type": "code",
      "metadata": {
        "colab": {
          "base_uri": "https://localhost:8080/",
          "height": 265
        },
        "id": "hj1D1IaRMVUU",
        "outputId": "6393640a-93d9-40fd-c177-c1bc044bd16a"
      },
      "source": [
        "plot(ee_outliers)  # outlier results using elliptic envelope"
      ],
      "execution_count": 261,
      "outputs": [
        {
          "output_type": "display_data",
          "data": {
            "image/png": "[encoded data removed]",
            "text/plain": [
              "<Figure size 432x288 with 1 Axes>"
            ]
          },
          "metadata": {
            "needs_background": "light"
          }
        }
      ]
    },
    {
      "cell_type": "code",
      "metadata": {
        "colab": {
          "base_uri": "https://localhost:8080/",
          "height": 265
        },
        "id": "jnvc-QB2XB9A",
        "outputId": "c40c3d73-eebf-460f-b24c-eb2030e092d6"
      },
      "source": [
        "plot(if_outliers) # outlier results using isolation forest"
      ],
      "execution_count": 262,
      "outputs": [
        {
          "output_type": "display_data",
          "data": {
            "image/png": "[encoded data removed]",
            "text/plain": [
              "<Figure size 432x288 with 1 Axes>"
            ]
          },
          "metadata": {
            "needs_background": "light"
          }
        }
      ]
    },
    {
      "cell_type": "code",
      "metadata": {
        "colab": {
          "base_uri": "https://localhost:8080/",
          "height": 265
        },
        "id": "ynY3L_8qU0-f",
        "outputId": "005adbc7-2e1e-41a9-c6f4-cdc2b484b3b7"
      },
      "source": [
        "plot(ocsvm_outliers)  # outlier results using one class SVM"
      ],
      "execution_count": 263,
      "outputs": [
        {
          "output_type": "display_data",
          "data": {
            "image/png": "[encoded data removed]",
            "text/plain": [
              "<Figure size 432x288 with 1 Axes>"
            ]
          },
          "metadata": {
            "needs_background": "light"
          }
        }
      ]
    },
    {
      "cell_type": "markdown",
      "metadata": {
        "id": "V9t8_nK9oAJ6"
      },
      "source": [
        "#Informal Evaluation\n",
        "\n",
        "this is not a true evaluation of any kind of metrics. Rather, it checks for correlation between those players rated outlier and those who at some time were in the all-stars.\n",
        "\n",
        "we use the fact that a player made it into the allstars group as a heuristic to say whether they are infact outstanding"
      ]
    },
    {
      "cell_type": "markdown",
      "metadata": {
        "id": "WOLIMJ00Hxbp"
      },
      "source": [
        "##what proportion of players were in allstars?\n",
        "P(allstar)\n"
      ]
    },
    {
      "cell_type": "code",
      "metadata": {
        "colab": {
          "base_uri": "https://localhost:8080/"
        },
        "id": "Hpzb-y2gHSyF",
        "outputId": "a8fc44c5-8d8a-4e00-c0e6-fa75a1365e66"
      },
      "source": [
        "stars = player_summary.where(player_summary[\"times_allstar\"] != 0).dropna()\n",
        "\n",
        "\n",
        "\n",
        "print(\"P(allstar) =     \", stars.shape[0]/player_summary.shape[0])\n"
      ],
      "execution_count": 264,
      "outputs": [
        {
          "output_type": "stream",
          "name": "stdout",
          "text": [
            "P(allstar) =      0.11538461538461539\n"
          ]
        }
      ]
    },
    {
      "cell_type": "markdown",
      "metadata": {
        "id": "yEzwq6gWZEiP"
      },
      "source": [
        "##what proportion of players were outliers?\n",
        "P(outlier)\n"
      ]
    },
    {
      "cell_type": "code",
      "metadata": {
        "colab": {
          "base_uri": "https://localhost:8080/"
        },
        "id": "1gJ3BdgSZQz2",
        "outputId": "0cc24943-e53a-42a9-d6cd-ebe503bcd6bc"
      },
      "source": [
        "ee_outliers = player_summary.where(player_summary[\"EllipticEnvelope_outlier\"] == -1).dropna()\n",
        "if_outliers = player_summary.where(player_summary[\"IsolationForest_outlier\"] == -1).dropna()\n",
        "ocsvm_outliers = player_summary.where(player_summary[\"OneClassSVM_outlier\"] == -1).dropna()\n",
        "\n",
        "\n",
        "print(\"EE: P(outlier) =     \", ee_outliers.shape[0]/player_summary.shape[0])\n",
        "print(\"IF: P(outlier) =     \", if_outliers.shape[0]/player_summary.shape[0])\n",
        "print(\"OCSVM: P(outlier) =  \", ocsvm_outliers.shape[0]/player_summary.shape[0])\n"
      ],
      "execution_count": 265,
      "outputs": [
        {
          "output_type": "stream",
          "name": "stdout",
          "text": [
            "EE: P(outlier) =      0.02\n",
            "IF: P(outlier) =      0.02\n",
            "OCSVM: P(outlier) =   0.020307692307692308\n"
          ]
        }
      ]
    },
    {
      "cell_type": "markdown",
      "metadata": {
        "id": "m88z--CPKcoJ"
      },
      "source": [
        "##what proportion of inliers were in allstars?\n",
        "P(not outlier | allstar)"
      ]
    },
    {
      "cell_type": "code",
      "metadata": {
        "colab": {
          "base_uri": "https://localhost:8080/"
        },
        "id": "s8pNutlEKcoK",
        "outputId": "8436af0a-c6ec-42ff-9eb8-bee1d5d1a6a0"
      },
      "source": [
        "ee_inliers = player_summary.where(player_summary[\"EllipticEnvelope_outlier\"] == 1).dropna()\n",
        "if_inliers = player_summary.where(player_summary[\"IsolationForest_outlier\"] == 1).dropna()\n",
        "ocsvm_inliers = player_summary.where(player_summary[\"OneClassSVM_outlier\"] == 1).dropna()\n",
        "\n",
        "\n",
        "ee_stars = ee_inliers.where(ee_inliers[\"times_allstar\"] != 0).dropna()\n",
        "if_stars = if_inliers.where(if_inliers[\"times_allstar\"] != 0).dropna()\n",
        "ocsvm_stars = ocsvm_inliers.where(ocsvm_inliers[\"times_allstar\"] != 0).dropna()\n",
        "\n",
        "\n",
        "\n",
        "\n",
        "print(\"EE: P(not outlier | allstar) =     \", ee_stars.shape[0]/ee_inliers.shape[0])\n",
        "print(\"IF: P(not outlier | allstar) =     \", if_stars.shape[0]/if_inliers.shape[0])\n",
        "print(\"OCSVM: P(not outlier | allstar) =  \", ocsvm_stars.shape[0]/ocsvm_inliers.shape[0])\n",
        "\n",
        "\n"
      ],
      "execution_count": 266,
      "outputs": [
        {
          "output_type": "stream",
          "name": "stdout",
          "text": [
            "EE: P(not outlier | allstar) =      0.09858712715855573\n",
            "IF: P(not outlier | allstar) =      0.09858712715855573\n",
            "OCSVM: P(not outlier | allstar) =   0.10364321608040201\n"
          ]
        }
      ]
    },
    {
      "cell_type": "markdown",
      "metadata": {
        "id": "S_Js7HwzFNuR"
      },
      "source": [
        "##what proportion of outliers were in allstars?\n",
        "P(outlier | allstar)"
      ]
    },
    {
      "cell_type": "code",
      "metadata": {
        "colab": {
          "base_uri": "https://localhost:8080/"
        },
        "id": "Ugdoe03KFM8c",
        "outputId": "67172a00-7f65-49a3-8404-7f2b453e2689"
      },
      "source": [
        "ee_outliers = player_summary.where(player_summary[\"EllipticEnvelope_outlier\"] == -1).dropna()\n",
        "if_outliers = player_summary.where(player_summary[\"IsolationForest_outlier\"] == -1).dropna()\n",
        "ocsvm_outliers = player_summary.where(player_summary[\"OneClassSVM_outlier\"] == -1).dropna()\n",
        "\n",
        "\n",
        "ee_stars = ee_outliers.where(ee_outliers[\"times_allstar\"] != 0).dropna()\n",
        "if_stars = if_outliers.where(if_outliers[\"times_allstar\"] != 0).dropna()\n",
        "ocsvm_stars = ocsvm_outliers.where(ocsvm_outliers[\"times_allstar\"] != 0).dropna()\n",
        "\n",
        "\n",
        "\n",
        "\n",
        "print(\"EE: P(outlier | allstar) =     \", ee_stars.shape[0]/ee_outliers.shape[0])\n",
        "print(\"IF: P(outlier | allstar) =     \", if_stars.shape[0]/if_outliers.shape[0])\n",
        "print(\"OCSVM: P(outlier | allstar) =  \", ocsvm_stars.shape[0]/ocsvm_outliers.shape[0])\n",
        "\n",
        "\n"
      ],
      "execution_count": 267,
      "outputs": [
        {
          "output_type": "stream",
          "name": "stdout",
          "text": [
            "EE: P(outlier | allstar) =      0.9384615384615385\n",
            "IF: P(outlier | allstar) =      0.9384615384615385\n",
            "OCSVM: P(outlier | allstar) =   0.6818181818181818\n"
          ]
        }
      ]
    }
  ]
}