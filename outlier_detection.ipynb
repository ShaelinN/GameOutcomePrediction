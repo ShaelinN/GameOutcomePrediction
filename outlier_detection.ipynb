{
  "nbformat": 4,
  "nbformat_minor": 0,
  "metadata": {
    "colab": {
      "name": "outlier_detection.ipynb",
      "provenance": [],
      "collapsed_sections": [],
      "mount_file_id": "1plKsv8kGT0QjcB4yRErShvVchfAJduCb",
      "authorship_tag": "ABX9TyNNGuCcJh0KkSJEAzhjyn83",
      "include_colab_link": true
    },
    "kernelspec": {
      "name": "python3",
      "display_name": "Python 3"
    },
    "language_info": {
      "name": "python"
    }
  },
  "cells": [
    {
      "cell_type": "markdown",
      "metadata": {
        "id": "view-in-github",
        "colab_type": "text"
      },
      "source": [
        "<a href=\"https://colab.research.google.com/github/ShaelinN/GameOutcomePrediction/blob/master/outlier_detection.ipynb\" target=\"_parent\"><img src=\"https://colab.research.google.com/assets/colab-badge.svg\" alt=\"Open In Colab\"/></a>"
      ]
    },
    {
      "cell_type": "code",
      "metadata": {
        "id": "RxGRKlx4yNhB"
      },
      "source": [
        "import pandas as pd\n",
        "import os\n",
        "import numpy as np"
      ],
      "execution_count": 1,
      "outputs": []
    },
    {
      "cell_type": "code",
      "metadata": {
        "id": "9dAv76LGLWmn"
      },
      "source": [
        "from sklearn import svm\n",
        "from sklearn.ensemble import IsolationForest\n",
        "from sklearn.covariance import EllipticEnvelope\n",
        "\n",
        "from sklearn.decomposition import PCA\n",
        "import matplotlib.pyplot as plt"
      ],
      "execution_count": 6,
      "outputs": []
    },
    {
      "cell_type": "code",
      "metadata": {
        "id": "Ma4exVg7NtQx"
      },
      "source": [
        "root = \"/content/drive/MyDrive/COMP721_Project\""
      ],
      "execution_count": 2,
      "outputs": []
    },
    {
      "cell_type": "code",
      "metadata": {
        "id": "Y7_7acDZN4JT"
      },
      "source": [
        "data = os.path.join(root, \"Data\")"
      ],
      "execution_count": 3,
      "outputs": []
    },
    {
      "cell_type": "markdown",
      "metadata": {
        "id": "32_zPo9Ot1we"
      },
      "source": [
        "#preprocessing"
      ]
    },
    {
      "cell_type": "code",
      "metadata": {
        "colab": {
          "base_uri": "https://localhost:8080/",
          "height": 202
        },
        "id": "gm5czffQORbA",
        "outputId": "f67d45bc-e42e-419d-d983-c2dcf084dfd8"
      },
      "source": [
        "player_rs_career = pd.read_csv(os.path.join(data, \"player_regular_season_career.csv\"))\n",
        "player_rs_career.head()"
      ],
      "execution_count": 30,
      "outputs": [
        {
          "output_type": "execute_result",
          "data": {
            "text/html": [
              "<div>\n",
              "<style scoped>\n",
              "    .dataframe tbody tr th:only-of-type {\n",
              "        vertical-align: middle;\n",
              "    }\n",
              "\n",
              "    .dataframe tbody tr th {\n",
              "        vertical-align: top;\n",
              "    }\n",
              "\n",
              "    .dataframe thead th {\n",
              "        text-align: right;\n",
              "    }\n",
              "</style>\n",
              "<table border=\"1\" class=\"dataframe\">\n",
              "  <thead>\n",
              "    <tr style=\"text-align: right;\">\n",
              "      <th></th>\n",
              "      <th>ilkid</th>\n",
              "      <th>firstname</th>\n",
              "      <th>lastname</th>\n",
              "      <th>leag</th>\n",
              "      <th>gp</th>\n",
              "      <th>minutes</th>\n",
              "      <th>pts</th>\n",
              "      <th>oreb</th>\n",
              "      <th>dreb</th>\n",
              "      <th>reb</th>\n",
              "      <th>asts</th>\n",
              "      <th>stl</th>\n",
              "      <th>blk</th>\n",
              "      <th>turnover</th>\n",
              "      <th>pf</th>\n",
              "      <th>fga</th>\n",
              "      <th>fgm</th>\n",
              "      <th>fta</th>\n",
              "      <th>ftm</th>\n",
              "      <th>tpa</th>\n",
              "      <th>tpm</th>\n",
              "    </tr>\n",
              "  </thead>\n",
              "  <tbody>\n",
              "    <tr>\n",
              "      <th>0</th>\n",
              "      <td>ABDELAL01</td>\n",
              "      <td>Alaa</td>\n",
              "      <td>Abdelnaby</td>\n",
              "      <td>N</td>\n",
              "      <td>256</td>\n",
              "      <td>3200</td>\n",
              "      <td>1465</td>\n",
              "      <td>283</td>\n",
              "      <td>563</td>\n",
              "      <td>846</td>\n",
              "      <td>85</td>\n",
              "      <td>71</td>\n",
              "      <td>69</td>\n",
              "      <td>247</td>\n",
              "      <td>484</td>\n",
              "      <td>1236</td>\n",
              "      <td>620</td>\n",
              "      <td>321</td>\n",
              "      <td>225</td>\n",
              "      <td>3</td>\n",
              "      <td>0</td>\n",
              "    </tr>\n",
              "    <tr>\n",
              "      <th>1</th>\n",
              "      <td>ABDULKA01</td>\n",
              "      <td>Kareem</td>\n",
              "      <td>Abdul-jabbar</td>\n",
              "      <td>N</td>\n",
              "      <td>1560</td>\n",
              "      <td>57446</td>\n",
              "      <td>38387</td>\n",
              "      <td>2975</td>\n",
              "      <td>9394</td>\n",
              "      <td>17440</td>\n",
              "      <td>5660</td>\n",
              "      <td>1160</td>\n",
              "      <td>3189</td>\n",
              "      <td>2527</td>\n",
              "      <td>4657</td>\n",
              "      <td>28307</td>\n",
              "      <td>15837</td>\n",
              "      <td>9304</td>\n",
              "      <td>6712</td>\n",
              "      <td>18</td>\n",
              "      <td>1</td>\n",
              "    </tr>\n",
              "    <tr>\n",
              "      <th>2</th>\n",
              "      <td>ABDULMA01</td>\n",
              "      <td>Mahmo</td>\n",
              "      <td>Abdul-rauf</td>\n",
              "      <td>N</td>\n",
              "      <td>586</td>\n",
              "      <td>15633</td>\n",
              "      <td>8553</td>\n",
              "      <td>219</td>\n",
              "      <td>868</td>\n",
              "      <td>1087</td>\n",
              "      <td>2079</td>\n",
              "      <td>487</td>\n",
              "      <td>46</td>\n",
              "      <td>963</td>\n",
              "      <td>1107</td>\n",
              "      <td>7943</td>\n",
              "      <td>3514</td>\n",
              "      <td>1161</td>\n",
              "      <td>1051</td>\n",
              "      <td>1339</td>\n",
              "      <td>474</td>\n",
              "    </tr>\n",
              "    <tr>\n",
              "      <th>3</th>\n",
              "      <td>ABDULTA01</td>\n",
              "      <td>Tariq</td>\n",
              "      <td>Abdul-wahad</td>\n",
              "      <td>N</td>\n",
              "      <td>236</td>\n",
              "      <td>4808</td>\n",
              "      <td>1830</td>\n",
              "      <td>275</td>\n",
              "      <td>501</td>\n",
              "      <td>776</td>\n",
              "      <td>266</td>\n",
              "      <td>184</td>\n",
              "      <td>82</td>\n",
              "      <td>309</td>\n",
              "      <td>485</td>\n",
              "      <td>1726</td>\n",
              "      <td>720</td>\n",
              "      <td>529</td>\n",
              "      <td>372</td>\n",
              "      <td>76</td>\n",
              "      <td>18</td>\n",
              "    </tr>\n",
              "    <tr>\n",
              "      <th>4</th>\n",
              "      <td>ABDURSH01</td>\n",
              "      <td>Shareef</td>\n",
              "      <td>Abdur-rahim</td>\n",
              "      <td>N</td>\n",
              "      <td>672</td>\n",
              "      <td>24862</td>\n",
              "      <td>13338</td>\n",
              "      <td>1498</td>\n",
              "      <td>3976</td>\n",
              "      <td>5474</td>\n",
              "      <td>1847</td>\n",
              "      <td>718</td>\n",
              "      <td>556</td>\n",
              "      <td>1911</td>\n",
              "      <td>1845</td>\n",
              "      <td>10215</td>\n",
              "      <td>4789</td>\n",
              "      <td>4427</td>\n",
              "      <td>3614</td>\n",
              "      <td>477</td>\n",
              "      <td>146</td>\n",
              "    </tr>\n",
              "  </tbody>\n",
              "</table>\n",
              "</div>"
            ],
            "text/plain": [
              "       ilkid firstname      lastname leag    gp  ...    fgm   fta   ftm   tpa  tpm\n",
              "0  ABDELAL01      Alaa     Abdelnaby    N   256  ...    620   321   225     3    0\n",
              "1  ABDULKA01    Kareem  Abdul-jabbar    N  1560  ...  15837  9304  6712    18    1\n",
              "2  ABDULMA01     Mahmo    Abdul-rauf    N   586  ...   3514  1161  1051  1339  474\n",
              "3  ABDULTA01     Tariq   Abdul-wahad    N   236  ...    720   529   372    76   18\n",
              "4  ABDURSH01   Shareef   Abdur-rahim    N   672  ...   4789  4427  3614   477  146\n",
              "\n",
              "[5 rows x 21 columns]"
            ]
          },
          "metadata": {},
          "execution_count": 30
        }
      ]
    },
    {
      "cell_type": "code",
      "metadata": {
        "id": "DJnMgjfiQIog"
      },
      "source": [
        "player_keys = player_rs_career.loc[:,:\"leag\"]\n",
        "\n",
        "\n",
        "Dn_player_vecs = player_rs_career.loc[:,\"gp\":]\n",
        "\n",
        "pca = PCA(n_components=2)\n",
        "D2_player_vecs = pca.fit_transform(Dn_player_vecs)\n"
      ],
      "execution_count": 79,
      "outputs": []
    },
    {
      "cell_type": "markdown",
      "metadata": {
        "id": "zns4rAAKtzE_"
      },
      "source": [
        "#Models"
      ]
    },
    {
      "cell_type": "code",
      "metadata": {
        "id": "QWfwrSluLhHX"
      },
      "source": [
        "player_summary = player_keys.copy()\n",
        "\n",
        "OCSVM = svm.OneClassSVM(nu=0.08)\n",
        "IF = IsolationForest(contamination=0.02)\n",
        "EE = EllipticEnvelope(contamination=0.08)\n",
        "\n",
        "model = IF #change to OCSVM, IF, or EE\n",
        "\n",
        "working_player_vecs = Dn_player_vecs #change to D2_player_vecs or Dn_player_vecs"
      ],
      "execution_count": 80,
      "outputs": []
    },
    {
      "cell_type": "code",
      "metadata": {
        "id": "snhV5f0rWD-v"
      },
      "source": [
        "working_player_vecs = working_player_vecs.copy()"
      ],
      "execution_count": 81,
      "outputs": []
    },
    {
      "cell_type": "code",
      "metadata": {
        "colab": {
          "base_uri": "https://localhost:8080/",
          "height": 202
        },
        "id": "M2LcxZPzLNdh",
        "outputId": "33583db0-6cd6-4b51-9795-e1998bbc0eca"
      },
      "source": [
        "detected_outliers = model.fit_predict(working_player_vecs)\n",
        "player_summary[\"outlier\"] = detected_outliers\n",
        "player_summary.head()"
      ],
      "execution_count": 82,
      "outputs": [
        {
          "output_type": "execute_result",
          "data": {
            "text/html": [
              "<div>\n",
              "<style scoped>\n",
              "    .dataframe tbody tr th:only-of-type {\n",
              "        vertical-align: middle;\n",
              "    }\n",
              "\n",
              "    .dataframe tbody tr th {\n",
              "        vertical-align: top;\n",
              "    }\n",
              "\n",
              "    .dataframe thead th {\n",
              "        text-align: right;\n",
              "    }\n",
              "</style>\n",
              "<table border=\"1\" class=\"dataframe\">\n",
              "  <thead>\n",
              "    <tr style=\"text-align: right;\">\n",
              "      <th></th>\n",
              "      <th>ilkid</th>\n",
              "      <th>firstname</th>\n",
              "      <th>lastname</th>\n",
              "      <th>leag</th>\n",
              "      <th>outlier</th>\n",
              "    </tr>\n",
              "  </thead>\n",
              "  <tbody>\n",
              "    <tr>\n",
              "      <th>0</th>\n",
              "      <td>ABDELAL01</td>\n",
              "      <td>Alaa</td>\n",
              "      <td>Abdelnaby</td>\n",
              "      <td>N</td>\n",
              "      <td>1</td>\n",
              "    </tr>\n",
              "    <tr>\n",
              "      <th>1</th>\n",
              "      <td>ABDULKA01</td>\n",
              "      <td>Kareem</td>\n",
              "      <td>Abdul-jabbar</td>\n",
              "      <td>N</td>\n",
              "      <td>-1</td>\n",
              "    </tr>\n",
              "    <tr>\n",
              "      <th>2</th>\n",
              "      <td>ABDULMA01</td>\n",
              "      <td>Mahmo</td>\n",
              "      <td>Abdul-rauf</td>\n",
              "      <td>N</td>\n",
              "      <td>1</td>\n",
              "    </tr>\n",
              "    <tr>\n",
              "      <th>3</th>\n",
              "      <td>ABDULTA01</td>\n",
              "      <td>Tariq</td>\n",
              "      <td>Abdul-wahad</td>\n",
              "      <td>N</td>\n",
              "      <td>1</td>\n",
              "    </tr>\n",
              "    <tr>\n",
              "      <th>4</th>\n",
              "      <td>ABDURSH01</td>\n",
              "      <td>Shareef</td>\n",
              "      <td>Abdur-rahim</td>\n",
              "      <td>N</td>\n",
              "      <td>1</td>\n",
              "    </tr>\n",
              "  </tbody>\n",
              "</table>\n",
              "</div>"
            ],
            "text/plain": [
              "       ilkid firstname      lastname leag  outlier\n",
              "0  ABDELAL01      Alaa     Abdelnaby    N        1\n",
              "1  ABDULKA01    Kareem  Abdul-jabbar    N       -1\n",
              "2  ABDULMA01     Mahmo    Abdul-rauf    N        1\n",
              "3  ABDULTA01     Tariq   Abdul-wahad    N        1\n",
              "4  ABDURSH01   Shareef   Abdur-rahim    N        1"
            ]
          },
          "metadata": {},
          "execution_count": 82
        }
      ]
    },
    {
      "cell_type": "markdown",
      "metadata": {
        "id": "5-yznty3YBpa"
      },
      "source": [
        "#Plotting"
      ]
    },
    {
      "cell_type": "code",
      "metadata": {
        "id": "hj1D1IaRMVUU"
      },
      "source": [
        "# outlier\n",
        "C_0 = np.argwhere(detected_outliers==-1)\n",
        "C_0 = D2_player_vecs[C_0]   #since in plotting, only work with D2 vectors (2D)\n",
        "C_0 = C_0.transpose() "
      ],
      "execution_count": 88,
      "outputs": []
    },
    {
      "cell_type": "code",
      "metadata": {
        "id": "jnvc-QB2XB9A"
      },
      "source": [
        "#inlier\n",
        "C_1 = np.argwhere(detected_outliers==1)\n",
        "C_1 = D2_player_vecs[C_1]   #since in plotting, only work with D2 vectors (2D)\n",
        "C_1 = C_1.transpose()"
      ],
      "execution_count": 89,
      "outputs": []
    },
    {
      "cell_type": "code",
      "metadata": {
        "colab": {
          "base_uri": "https://localhost:8080/",
          "height": 613
        },
        "id": "ynY3L_8qU0-f",
        "outputId": "6f8c2a50-67b9-452b-8c5d-0968adbf5423"
      },
      "source": [
        "plt.figure(figsize=(18,10))\n",
        "\n",
        "plt.scatter(C_0[0], C_0[1], label='outlier') #outlier\n",
        "plt.scatter(C_1[0], C_1[1], label='inlier')\n",
        "\n",
        "plt.xlim(-10000,80000)\n",
        "plt.ylim(-15000,15000)\n",
        "plt.legend()"
      ],
      "execution_count": 90,
      "outputs": [
        {
          "output_type": "execute_result",
          "data": {
            "text/plain": [
              "<matplotlib.legend.Legend at 0x7fee033ae550>"
            ]
          },
          "metadata": {},
          "execution_count": 90
        },
        {
          "output_type": "display_data",
          "data": {
            "image/png": "[encoded data removed]",
            "text/plain": [
              "<Figure size 1296x720 with 1 Axes>"
            ]
          },
          "metadata": {
            "needs_background": "light"
          }
        }
      ]
    },
    {
      "cell_type": "markdown",
      "metadata": {
        "id": "V9t8_nK9oAJ6"
      },
      "source": [
        "#Informal Evaluation\n",
        "\n",
        "this is not a true evaluation, since the metrics used do not apply in the case of unsupervised learning. Rather, it checks for correlation between those players rated outlier and those who at some time were in the all-stars."
      ]
    },
    {
      "cell_type": "code",
      "metadata": {
        "id": "OqSeqX0ZoDru"
      },
      "source": [
        "player_all_star= pd.read_csv(os.path.join(data, \"player_allstar.csv\"))\n",
        "player_all_star.head()\n",
        "player_all_star[\"ilkid\"] = [i.upper().strip() for i in player_all_star[\"ilkid\"]]"
      ],
      "execution_count": 91,
      "outputs": []
    },
    {
      "cell_type": "code",
      "metadata": {
        "id": "PzUoyr9Vxz9w"
      },
      "source": [
        "count = player_all_star[[\"ilkid\"]].groupby(\"ilkid\", as_index=False).size()\n",
        "count.columns = [\"ilkid\",\"times_allstar\"]"
      ],
      "execution_count": 92,
      "outputs": []
    },
    {
      "cell_type": "code",
      "metadata": {
        "colab": {
          "base_uri": "https://localhost:8080/",
          "height": 416
        },
        "id": "VMqyTK6kxU85",
        "outputId": "f807cf41-9823-44d5-c01e-503913d4060a"
      },
      "source": [
        "player_summary = pd.merge(player_summary, count,how=\"left\", on=\"ilkid\")\n",
        "player_summary[\"times_allstar\"] = player_summary[\"times_allstar\"].fillna(0)\n",
        "player_summary"
      ],
      "execution_count": 93,
      "outputs": [
        {
          "output_type": "execute_result",
          "data": {
            "text/html": [
              "<div>\n",
              "<style scoped>\n",
              "    .dataframe tbody tr th:only-of-type {\n",
              "        vertical-align: middle;\n",
              "    }\n",
              "\n",
              "    .dataframe tbody tr th {\n",
              "        vertical-align: top;\n",
              "    }\n",
              "\n",
              "    .dataframe thead th {\n",
              "        text-align: right;\n",
              "    }\n",
              "</style>\n",
              "<table border=\"1\" class=\"dataframe\">\n",
              "  <thead>\n",
              "    <tr style=\"text-align: right;\">\n",
              "      <th></th>\n",
              "      <th>ilkid</th>\n",
              "      <th>firstname</th>\n",
              "      <th>lastname</th>\n",
              "      <th>leag</th>\n",
              "      <th>outlier</th>\n",
              "      <th>times_allstar</th>\n",
              "    </tr>\n",
              "  </thead>\n",
              "  <tbody>\n",
              "    <tr>\n",
              "      <th>0</th>\n",
              "      <td>ABDELAL01</td>\n",
              "      <td>Alaa</td>\n",
              "      <td>Abdelnaby</td>\n",
              "      <td>N</td>\n",
              "      <td>1</td>\n",
              "      <td>0.0</td>\n",
              "    </tr>\n",
              "    <tr>\n",
              "      <th>1</th>\n",
              "      <td>ABDULKA01</td>\n",
              "      <td>Kareem</td>\n",
              "      <td>Abdul-jabbar</td>\n",
              "      <td>N</td>\n",
              "      <td>-1</td>\n",
              "      <td>19.0</td>\n",
              "    </tr>\n",
              "    <tr>\n",
              "      <th>2</th>\n",
              "      <td>ABDULMA01</td>\n",
              "      <td>Mahmo</td>\n",
              "      <td>Abdul-rauf</td>\n",
              "      <td>N</td>\n",
              "      <td>1</td>\n",
              "      <td>0.0</td>\n",
              "    </tr>\n",
              "    <tr>\n",
              "      <th>3</th>\n",
              "      <td>ABDULTA01</td>\n",
              "      <td>Tariq</td>\n",
              "      <td>Abdul-wahad</td>\n",
              "      <td>N</td>\n",
              "      <td>1</td>\n",
              "      <td>0.0</td>\n",
              "    </tr>\n",
              "    <tr>\n",
              "      <th>4</th>\n",
              "      <td>ABDURSH01</td>\n",
              "      <td>Shareef</td>\n",
              "      <td>Abdur-rahim</td>\n",
              "      <td>N</td>\n",
              "      <td>1</td>\n",
              "      <td>1.0</td>\n",
              "    </tr>\n",
              "    <tr>\n",
              "      <th>...</th>\n",
              "      <td>...</td>\n",
              "      <td>...</td>\n",
              "      <td>...</td>\n",
              "      <td>...</td>\n",
              "      <td>...</td>\n",
              "      <td>...</td>\n",
              "    </tr>\n",
              "    <tr>\n",
              "      <th>3754</th>\n",
              "      <td>ZEVENPH01</td>\n",
              "      <td>Phil</td>\n",
              "      <td>Zevenbergen</td>\n",
              "      <td>N</td>\n",
              "      <td>1</td>\n",
              "      <td>0.0</td>\n",
              "    </tr>\n",
              "    <tr>\n",
              "      <th>3755</th>\n",
              "      <td>ZIDEKGE01</td>\n",
              "      <td>George</td>\n",
              "      <td>Zidek</td>\n",
              "      <td>N</td>\n",
              "      <td>1</td>\n",
              "      <td>0.0</td>\n",
              "    </tr>\n",
              "    <tr>\n",
              "      <th>3756</th>\n",
              "      <td>ZOETJI01</td>\n",
              "      <td>Jim</td>\n",
              "      <td>Zoet</td>\n",
              "      <td>N</td>\n",
              "      <td>1</td>\n",
              "      <td>0.0</td>\n",
              "    </tr>\n",
              "    <tr>\n",
              "      <th>3757</th>\n",
              "      <td>ZOPFBI01</td>\n",
              "      <td>Bill</td>\n",
              "      <td>Zopf</td>\n",
              "      <td>N</td>\n",
              "      <td>1</td>\n",
              "      <td>0.0</td>\n",
              "    </tr>\n",
              "    <tr>\n",
              "      <th>3758</th>\n",
              "      <td>ZUNICMA01</td>\n",
              "      <td>Matt</td>\n",
              "      <td>Zunic</td>\n",
              "      <td>N</td>\n",
              "      <td>1</td>\n",
              "      <td>0.0</td>\n",
              "    </tr>\n",
              "  </tbody>\n",
              "</table>\n",
              "<p>3759 rows × 6 columns</p>\n",
              "</div>"
            ],
            "text/plain": [
              "          ilkid firstname      lastname leag  outlier  times_allstar\n",
              "0     ABDELAL01      Alaa     Abdelnaby    N        1            0.0\n",
              "1     ABDULKA01    Kareem  Abdul-jabbar    N       -1           19.0\n",
              "2     ABDULMA01     Mahmo    Abdul-rauf    N        1            0.0\n",
              "3     ABDULTA01     Tariq   Abdul-wahad    N        1            0.0\n",
              "4     ABDURSH01   Shareef   Abdur-rahim    N        1            1.0\n",
              "...         ...       ...           ...  ...      ...            ...\n",
              "3754  ZEVENPH01      Phil   Zevenbergen    N        1            0.0\n",
              "3755  ZIDEKGE01    George         Zidek    N        1            0.0\n",
              "3756   ZOETJI01       Jim          Zoet    N        1            0.0\n",
              "3757   ZOPFBI01      Bill          Zopf    N        1            0.0\n",
              "3758  ZUNICMA01      Matt         Zunic    N        1            0.0\n",
              "\n",
              "[3759 rows x 6 columns]"
            ]
          },
          "metadata": {},
          "execution_count": 93
        }
      ]
    },
    {
      "cell_type": "markdown",
      "metadata": {
        "id": "WOLIMJ00Hxbp"
      },
      "source": [
        "##what proportion of players were in allstars?\n"
      ]
    },
    {
      "cell_type": "code",
      "metadata": {
        "colab": {
          "base_uri": "https://localhost:8080/"
        },
        "id": "Hpzb-y2gHSyF",
        "outputId": "d2f9da6d-4d9a-493e-fb6e-ef036ccf8bbb"
      },
      "source": [
        "stars = player_summary.where(player_summary[\"times_allstar\"] != 0).dropna()\n",
        "\n",
        "stars.shape[0]/player_summary.shape[0]\n"
      ],
      "execution_count": 94,
      "outputs": [
        {
          "output_type": "execute_result",
          "data": {
            "text/plain": [
              "0.12476722532588454"
            ]
          },
          "metadata": {},
          "execution_count": 94
        }
      ]
    },
    {
      "cell_type": "markdown",
      "metadata": {
        "id": "m88z--CPKcoJ"
      },
      "source": [
        "##what proportion of inliers were in allstars?"
      ]
    },
    {
      "cell_type": "code",
      "metadata": {
        "colab": {
          "base_uri": "https://localhost:8080/"
        },
        "id": "s8pNutlEKcoK",
        "outputId": "a9c6b352-71cd-4f2b-fd75-63737af853cd"
      },
      "source": [
        "inliers = player_summary.where(player_summary[\"outlier\"] == 1).dropna()\n",
        "\n",
        "stars = inliers.where(inliers[\"times_allstar\"] != 0).dropna()\n",
        "\n",
        "\n",
        "stars.shape[0]/inliers.shape[0]\n"
      ],
      "execution_count": 95,
      "outputs": [
        {
          "output_type": "execute_result",
          "data": {
            "text/plain": [
              "0.10779256041270703"
            ]
          },
          "metadata": {},
          "execution_count": 95
        }
      ]
    },
    {
      "cell_type": "markdown",
      "metadata": {
        "id": "S_Js7HwzFNuR"
      },
      "source": [
        "##what proportion of outliers were in allstars?"
      ]
    },
    {
      "cell_type": "code",
      "metadata": {
        "colab": {
          "base_uri": "https://localhost:8080/"
        },
        "id": "Ugdoe03KFM8c",
        "outputId": "95ba3159-4f58-43a4-98ed-753d26003dea"
      },
      "source": [
        "outliers = player_summary.where(player_summary[\"outlier\"] == -1).dropna()\n",
        "\n",
        "stars = outliers.where(outliers[\"times_allstar\"] != 0).dropna()\n",
        "\n",
        "\n",
        "stars.shape[0]/outliers.shape[0]\n"
      ],
      "execution_count": 96,
      "outputs": [
        {
          "output_type": "execute_result",
          "data": {
            "text/plain": [
              "0.9473684210526315"
            ]
          },
          "metadata": {},
          "execution_count": 96
        }
      ]
    }
  ]
}